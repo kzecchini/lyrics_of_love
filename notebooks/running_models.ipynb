{
 "cells": [
  {
   "cell_type": "markdown",
   "metadata": {},
   "source": [
    "# Topic Modeling With K-means and LDA"
   ]
  },
  {
   "cell_type": "code",
   "execution_count": 2,
   "metadata": {
    "collapsed": true
   },
   "outputs": [],
   "source": [
    "# need to clean the stopwords a little more\n",
    "\n",
    "import nltk\n",
    "\n",
    "stop = set(nltk.corpus.stopwords.words('english'))\n",
    "# songs are about me, we, you - might be interesting to use them\n",
    "mwy_words = set([u'i', u'me', u'my', u'myself', u'we', u'our', u'ours', \n",
    "                 u'ourselves', u'you', u'your', u'yours', u'yourself',\n",
    "                 u'yourselves', u'he', u'him', u'his', u'himself', u'she',\n",
    "                 u'her', u'hers', u'herself'])\n",
    "add_words = set(['got', 'on', 'go', 'get', 'come', 'make', 'would', 'cannot', \n",
    "                 'could', 'th', 'let', 'oh', 'ah', 'want', 'like', 'know', 'yeah', 'yah', \n",
    "                 'ya', 'going', 'way', 'cause', 'caus', 'la', 'lala', 'say', 'na', 'nana', 'u', 'see', \n",
    "                 'take', 'hey', 'us'])\n",
    "# creating new set of stop words with me, we, you\n",
    "stop_mwy = stop - mwy_words\n",
    "stop_plus = stop | add_words\n",
    "stop_mwy_plus = stop_mwy | add_words"
   ]
  },
  {
   "cell_type": "code",
   "execution_count": 3,
   "metadata": {
    "collapsed": true
   },
   "outputs": [],
   "source": [
    "# get stems\n",
    "\n",
    "client = pymongo.MongoClient()\n",
    "songs = client.lyrics.all_songs\n",
    "\n",
    "full_corpus = []\n",
    "index = []\n",
    "for song in songs.find({}, {'stems': 1, \"_id\": 1}):\n",
    "    # filter out spanish songs\n",
    "    if 'que' in song['stems']:\n",
    "        continue\n",
    "    full_corpus.append(song['stems'])\n",
    "    index.append(song['_id'])"
   ]
  },
  {
   "cell_type": "code",
   "execution_count": 4,
   "metadata": {
    "collapsed": false
   },
   "outputs": [],
   "source": [
    "from collections import defaultdict\n",
    "frequency = defaultdict(int)\n",
    "for text in full_corpus:\n",
    "    for token in text:\n",
    "        frequency[token] += 1\n",
    "full_corpus = [[token for token in text if frequency[token] > 1 and token not in stop_plus] for text in full_corpus]"
   ]
  },
  {
   "cell_type": "markdown",
   "metadata": {},
   "source": [
    "# Trying Gensim"
   ]
  },
  {
   "cell_type": "code",
   "execution_count": 5,
   "metadata": {
    "collapsed": false
   },
   "outputs": [],
   "source": [
    "dictionary = corpora.Dictionary(full_corpus)\n",
    "corpus_vec = [dictionary.doc2bow(stems) for stems in full_corpus]\n",
    "tfidf = TfidfModel(corpus_vec)\n",
    "tfidf.save('tfidf_gensim.tfidf_model')\n",
    "corpus_tfidf = tfidf[corpus_vec]"
   ]
  },
  {
   "cell_type": "code",
   "execution_count": 6,
   "metadata": {
    "collapsed": true
   },
   "outputs": [],
   "source": [
    "corpus_tfidf = matutils.corpus2csc(corpus_tfidf).transpose()"
   ]
  },
  {
   "cell_type": "code",
   "execution_count": 7,
   "metadata": {
    "collapsed": false
   },
   "outputs": [],
   "source": [
    "corpus_tfidf_array = corpus_tfidf.toarray()"
   ]
  },
  {
   "cell_type": "code",
   "execution_count": 8,
   "metadata": {
    "collapsed": false
   },
   "outputs": [],
   "source": [
    "terms = [dictionary[i] for i in range(len(dictionary))]"
   ]
  },
  {
   "cell_type": "code",
   "execution_count": 9,
   "metadata": {
    "collapsed": false
   },
   "outputs": [],
   "source": [
    "term_matrix = pd.DataFrame(corpus_tfidf_array, columns=terms)"
   ]
  },
  {
   "cell_type": "code",
   "execution_count": null,
   "metadata": {
    "collapsed": true
   },
   "outputs": [],
   "source": [
    "# Run Model, Pickle, and Print Output"
   ]
  },
  {
   "cell_type": "code",
   "execution_count": 86,
   "metadata": {
    "collapsed": false
   },
   "outputs": [],
   "source": [
    "def model_km(corpus_tfidf):\n",
    "    num_range = [4, 8, 12, 16, 20, 24, 28]\n",
    "    for num_clusters in num_range:\n",
    "        km = KMeans(n_clusters=num_clusters, max_iter=400, n_jobs=-1)\n",
    "        km.fit(corpus_tfidf)\n",
    "        with file(str(num_clusters)+'_kmeans.pkl', 'w') as picklefile:\n",
    "            pickle.dump(km, picklefile)\n",
    "        print('Clusters: {}'.format(num_clusters))\n",
    "        print('Inertia: {}'.format(km.inertia_))\n",
    "        order_centroids = km.cluster_centers_.argsort()[:, ::-1] \n",
    "        for i in range(num_clusters):\n",
    "            print(\"Cluster %d:\" % i, end='')\n",
    "            for ind in order_centroids[i, :10]:\n",
    "                print(' %s,' % terms[ind], end='')\n",
    "                most_common.append(terms[ind])\n",
    "            print()\n",
    "            "
   ]
  },
  {
   "cell_type": "code",
   "execution_count": 87,
   "metadata": {
    "collapsed": false,
    "scrolled": true
   },
   "outputs": [
    {
     "name": "stdout",
     "output_type": "stream",
     "text": [
      "Clusters: 4\n",
      "Inertia: 137733.801831\n",
      "Cluster 0: away, never, time, love, feel, heart, life, one, day, tri,\n",
      "Cluster 1: love, man, us, one, girl, hey, back, littl, well, time,\n",
      "Cluster 2: nigga, fuck, bitch, shit, niggaz, yo, em, ass, hoe, money,\n",
      "Cluster 3: babi, love, girl, need, feel, give, tell, heart, one, right,\n",
      "Clusters: 8\n",
      "Inertia: 136980.053011\n",
      "Cluster 0: hey, christma, merri, santa, day, babi, girl, littl, tree, love,\n",
      "Cluster 1: dream, fall, away, light, world, heart, sun, eye, rain, night,\n",
      "Cluster 2: girl, man, love, back, one, littl, us, well, boy, look,\n",
      "Cluster 3: love, heart, need, feel, give, never, true, one, babi, fall,\n",
      "Cluster 4: tonight, right, night, feel, love, babi, alright, us, light, hold,\n",
      "Cluster 5: never, time, feel, away, thing, think, one, tri, need, life,\n",
      "Cluster 6: babi, girl, love, need, feel, tell, ooh, give, right, good,\n",
      "Cluster 7: nigga, fuck, bitch, shit, niggaz, yo, em, ass, hoe, money,\n",
      "Clusters: 12\n",
      "Inertia: 136340.136222\n",
      "Cluster 0: love, one, us, man, well, littl, time, feel, world, look,\n",
      "Cluster 1: nigga, bitch, fuck, shit, niggaz, yo, em, ass, hoe, motherfuck,\n",
      "Cluster 2: hey, girl, babi, love, feel, littl, back, tell, away, need,\n",
      "Cluster 3: away, fall, dream, heart, day, light, wait, feel, rain, eye,\n",
      "Cluster 4: goodby, cri, never, time, love, leav, last, heart, away, said,\n",
      "Cluster 5: tonight, right, love, feel, night, babi, alright, us, light, hold,\n",
      "Cluster 6: danc, music, night, floor, babi, move, us, chanc, feel, girl,\n",
      "Cluster 7: love, heart, need, feel, give, never, one, babi, true, fall,\n",
      "Cluster 8: girl, fuck, yo, em, shit, rock, man, money, boy, uh,\n",
      "Cluster 9: babi, love, girl, need, feel, tell, ooh, give, right, time,\n",
      "Cluster 10: christma, merri, santa, mistleto, snow, tree, bell, year, sleigh, carol,\n",
      "Cluster 11: never, time, thing, think, feel, need, tri, one, everyth, tell,\n",
      "Clusters: 16\n",
      "Inertia: 135830.886392\n",
      "Cluster 0: girl, babi, love, need, tell, one, world, feel, littl, boy,\n",
      "Cluster 1: babi, love, need, feel, tell, girl, give, right, heart, one,\n",
      "Cluster 2: tonight, right, feel, love, night, babi, alright, us, light, hold,\n",
      "Cluster 3: lord, god, woman, jesus, prais, holi, heaven, dem, mi, di,\n",
      "Cluster 4: goodby, cri, never, time, love, leav, away, last, heart, tri,\n",
      "Cluster 5: nigga, bitch, fuck, shit, niggaz, yo, em, ass, hoe, motherfuck,\n",
      "Cluster 6: believ, love, never, still, need, feel, heart, time, tell, one,\n",
      "Cluster 7: never, time, feel, thing, think, tri, one, life, need, everyth,\n",
      "Cluster 8: away, dream, fall, heart, light, rain, sun, day, eye, night,\n",
      "Cluster 9: love, heart, need, feel, give, never, babi, one, true, fall,\n",
      "Cluster 10: forev, togeth, love, heart, never, alway, last, ever, us, stay,\n",
      "Cluster 11: hey, babi, girl, love, feel, back, littl, away, tell, man,\n",
      "Cluster 12: ooh, danc, da, babi, love, night, music, feel, girl, move,\n",
      "Cluster 13: christma, merri, santa, mistleto, snow, tree, bell, year, sleigh, carol,\n",
      "Cluster 14: love, one, us, man, well, littl, time, back, feel, look,\n",
      "Cluster 15: fuck, shit, bitch, nigga, yo, em, niggaz, money, man, uh,\n",
      "Clusters: 20\n",
      "Inertia: 135438.668543\n",
      "Cluster 0: hey, babi, girl, love, littl, back, feel, tell, away, man,\n",
      "Cluster 1: sun, dream, rain, home, night, sing, light, sky, song, day,\n",
      "Cluster 2: tonight, right, love, feel, babi, night, us, light, time, home,\n",
      "Cluster 3: away, far, walk, run, fade, stay, day, feel, never, love,\n",
      "Cluster 4: babi, love, need, feel, girl, tell, ooh, give, right, heart,\n",
      "Cluster 5: believ, love, never, still, need, feel, heart, one, dream, someth,\n",
      "Cluster 6: love, man, us, one, danc, well, littl, back, time, look,\n",
      "Cluster 7: fuck, shit, bitch, nigga, yo, em, niggaz, money, man, uh,\n",
      "Cluster 8: heart, fall, feel, live, insid, life, world, hold, eye, die,\n",
      "Cluster 9: love, heart, need, feel, give, never, babi, one, true, fall,\n",
      "Cluster 10: rememb, love, forget, time, day, never, night, still, back, alway,\n",
      "Cluster 11: never, time, thing, think, tell, one, tri, need, feel, chang,\n",
      "Cluster 12: girl, babi, love, need, tell, world, one, littl, feel, boy,\n",
      "Cluster 13: gone, long, wrong, love, away, feel, miss, back, never, time,\n",
      "Cluster 14: goodby, cri, never, time, love, leav, last, tri, heart, tell,\n",
      "Cluster 15: christma, merri, santa, mistleto, snow, tree, bell, year, sleigh, carol,\n",
      "Cluster 16: lord, god, jesus, prais, holi, heaven, christ, glori, sing, thank,\n",
      "Cluster 17: forev, togeth, love, heart, never, last, alway, ever, us, feel,\n",
      "Cluster 18: alright, everyth, feel, night, babi, tonight, love, right, time, tell,\n",
      "Cluster 19: nigga, bitch, fuck, shit, niggaz, yo, em, ass, hoe, motherfuck,\n",
      "Clusters: 24\n",
      "Inertia: 135041.250887\n",
      "Cluster 0: girl, babi, love, need, tell, one, feel, littl, give, right,\n",
      "Cluster 1: world, live, chang, love, life, one, us, around, end, dream,\n",
      "Cluster 2: hey, babi, girl, love, littl, back, feel, tell, man, away,\n",
      "Cluster 3: ever, never, love, forev, feel, need, one, time, everyth, thing,\n",
      "Cluster 4: babi, love, need, tell, girl, feel, give, one, right, thing,\n",
      "Cluster 5: heart, goodby, cri, tear, love, break, apart, never, broken, feel,\n",
      "Cluster 6: da, di, dem, mi, yuh, fi, nuh, dat, inna, gal,\n",
      "Cluster 7: alright, everyth, feel, night, babi, tonight, love, right, time, tell,\n",
      "Cluster 8: fuck, shit, bitch, nigga, yo, niggaz, em, money, man, ass,\n",
      "Cluster 9: tonight, love, night, feel, right, babi, us, light, hold, time,\n",
      "Cluster 10: wrong, right, someth, feel, tell, time, love, long, noth, thing,\n",
      "Cluster 11: christma, merri, santa, mistleto, snow, tree, bell, year, sleigh, carol,\n",
      "Cluster 12: love, us, one, night, danc, man, well, feel, littl, time,\n",
      "Cluster 13: woman, man, love, babi, well, need, feel, good, girl, kind,\n",
      "Cluster 14: wait, long, time, love, day, feel, need, one, hold, life,\n",
      "Cluster 15: boy, girl, love, littl, babi, man, good, said, tell, one,\n",
      "Cluster 16: away, far, walk, run, stay, fade, day, feel, never, time,\n",
      "Cluster 17: im, dont, aint, cant, babi, girl, cuz, wont, love, ive,\n",
      "Cluster 18: ooh, babi, love, girl, feel, need, right, tell, time, good,\n",
      "Cluster 19: gone, long, love, away, feel, miss, time, never, day, alon,\n",
      "Cluster 20: nigga, fuck, bitch, shit, niggaz, yo, em, ass, hoe, motherfuck,\n",
      "Cluster 21: believ, love, never, still, need, feel, someth, dream, tell, thing,\n",
      "Cluster 22: love, need, give, feel, heart, never, babi, true, fall, one,\n",
      "Cluster 23: time, never, feel, life, one, day, thing, think, tri, live,\n",
      "Clusters: 28\n",
      "Inertia: 134662.027713\n",
      "Cluster 0: di, mi, dem, yuh, che, e, fi, non, nuh, il,\n",
      "Cluster 1: christma, merri, santa, mistleto, snow, tree, bell, year, sleigh, carol,\n",
      "Cluster 2: love, one, us, man, well, littl, feel, time, back, danc,\n",
      "Cluster 3: wait, long, time, love, day, feel, one, need, life, hold,\n",
      "Cluster 4: nigga, shit, fuck, bitch, yo, em, ass, motherfuck, money, wit,\n",
      "Cluster 5: heart, break, love, apart, broken, feel, fall, tear, never, hold,\n",
      "Cluster 6: hey, babi, girl, love, littl, back, tell, feel, away, man,\n",
      "Cluster 7: alright, everyth, feel, night, tonight, babi, love, right, time, tell,\n",
      "Cluster 8: good, feel, time, love, bad, babi, thing, enough, day, never,\n",
      "Cluster 9: babi, love, need, tell, feel, girl, give, right, one, thing,\n",
      "Cluster 10: girl, babi, love, need, tell, world, one, littl, feel, give,\n",
      "Cluster 11: goodby, cri, never, time, love, leav, last, tri, tell, said,\n",
      "Cluster 12: someon, somebodi, need, els, love, find, feel, never, one, life,\n",
      "Cluster 13: yo, em, nigga, shit, da, money, uh, man, back, fuck,\n",
      "Cluster 14: ooh, babi, love, girl, feel, need, right, tell, time, boy,\n",
      "Cluster 15: dream, sun, rain, light, sky, night, fall, shine, eye, sing,\n",
      "Cluster 16: love, need, feel, give, never, heart, babi, true, fall, one,\n",
      "Cluster 17: rock, roll, n, babi, music, danc, night, readi, soul, us,\n",
      "Cluster 18: shame, blame, pain, love, name, away, feel, cri, never, life,\n",
      "Cluster 19: never, time, feel, thing, think, life, tri, one, noth, everyth,\n",
      "Cluster 20: woman, man, love, babi, well, need, feel, girl, kind, never,\n",
      "Cluster 21: bitch, fuck, niggaz, nigga, shit, hoe, ass, yo, em, motherfuck,\n",
      "Cluster 22: miss, love, kiss, babi, wish, never, feel, time, much, gone,\n",
      "Cluster 23: tonight, right, love, feel, babi, night, us, light, hold, home,\n",
      "Cluster 24: lord, god, jesus, prais, holi, heaven, christ, glori, sing, o,\n",
      "Cluster 25: away, far, walk, run, fade, stay, day, feel, never, love,\n",
      "Cluster 26: rememb, love, forget, day, time, night, never, back, still, alway,\n",
      "Cluster 27: gone, long, wrong, love, away, feel, time, back, alon, never,\n"
     ]
    }
   ],
   "source": [
    "model_km(corpus_tfidf)"
   ]
  },
  {
   "cell_type": "code",
   "execution_count": 29,
   "metadata": {
    "collapsed": false
   },
   "outputs": [],
   "source": [
    "import pickle\n",
    "\n",
    "with file('28_kmeans.pkl', 'r') as x:\n",
    "    km = pickle.load(x)"
   ]
  },
  {
   "cell_type": "code",
   "execution_count": 89,
   "metadata": {
    "collapsed": false
   },
   "outputs": [
    {
     "data": {
      "text/plain": [
       "134662.0277134512"
      ]
     },
     "execution_count": 89,
     "metadata": {},
     "output_type": "execute_result"
    }
   ],
   "source": [
    "km.inertia_"
   ]
  },
  {
   "cell_type": "code",
   "execution_count": 32,
   "metadata": {
    "collapsed": false
   },
   "outputs": [
    {
     "data": {
      "text/plain": [
       "2     46373\n",
       "19    23649\n",
       "15    14549\n",
       "13    10483\n",
       "16     5184\n",
       "5      4304\n",
       "9      3833\n",
       "21     3538\n",
       "25     3418\n",
       "10     3197\n",
       "4      2919\n",
       "24     2773\n",
       "12     1889\n",
       "23     1840\n",
       "3      1619\n",
       "27     1354\n",
       "6      1320\n",
       "8      1313\n",
       "26     1175\n",
       "11     1096\n",
       "22      972\n",
       "14      912\n",
       "7       850\n",
       "17      825\n",
       "0       759\n",
       "20      753\n",
       "1       725\n",
       "18      434\n",
       "dtype: int64"
      ]
     },
     "execution_count": 32,
     "metadata": {},
     "output_type": "execute_result"
    }
   ],
   "source": [
    "clusters = km.labels_\n",
    "pd.Series(clusters).value_counts()"
   ]
  },
  {
   "cell_type": "code",
   "execution_count": 92,
   "metadata": {
    "collapsed": false,
    "scrolled": true
   },
   "outputs": [
    {
     "name": "stdout",
     "output_type": "stream",
     "text": [
      "Cluster 0: di, mi, dem, yuh, che, e, fi, non, nuh, il, inna, gal, un, seh, per, pon, mek, te, weh, piu,\n",
      "Cluster 1: christma, merri, santa, mistleto, snow, tree, bell, year, sleigh, carol, day, yuletid, eve, white, bright, happi, present, dream, christmas, wish,\n",
      "Cluster 2: love, one, us, man, well, littl, feel, time, back, danc, look, never, world, babi, said, need, day, home, hand, live,\n",
      "Cluster 3: wait, long, time, love, day, feel, one, need, life, hold, right, babi, never, night, back, still, heart, forev, tell, away,\n",
      "Cluster 4: nigga, shit, fuck, bitch, yo, em, ass, motherfuck, money, wit, hoe, niggaz, man, gon, real, thug, hit, game, back, hood,\n",
      "Cluster 5: heart, break, love, apart, broken, feel, fall, tear, never, hold, one, give, time, insid, need, believ, cri, start, still, hurt,\n",
      "Cluster 6: hey, babi, girl, love, littl, back, tell, feel, away, man, need, world, time, one, look, said, right, well, day, think,\n",
      "Cluster 7: alright, everyth, feel, night, tonight, babi, love, right, time, tell, never, one, day, hold, ok, okay, thing, need, well, think,\n",
      "Cluster 8: good, feel, time, love, bad, babi, thing, enough, day, never, look, life, tell, one, right, give, girl, need, better, think,\n",
      "Cluster 9: babi, love, need, tell, feel, girl, give, right, one, thing, time, pleas, think, night, cri, back, never, crazi, hold, heart,\n",
      "Cluster 10: girl, babi, love, need, tell, world, one, littl, feel, give, boy, right, never, think, look, thing, time, realli, man, night,\n",
      "Cluster 11: goodby, cri, never, time, love, leav, last, tri, tell, said, away, heart, long, eye, babi, lie, feel, one, kiss, end,\n",
      "Cluster 12: someon, somebodi, need, els, love, find, feel, never, one, life, alway, give, time, tell, hold, heart, look, someth, believ, care,\n",
      "Cluster 13: yo, em, nigga, shit, da, money, uh, man, back, fuck, im, wit, hit, boy, put, girl, bitch, keep, us, aint,\n",
      "Cluster 14: ooh, babi, love, girl, feel, need, right, tell, time, boy, look, good, oooh, thing, give, night, heart, said, think, one,\n",
      "Cluster 15: dream, sun, rain, light, sky, night, fall, shine, eye, sing, day, love, star, burn, world, dark, fli, blue, wind, feel,\n",
      "Cluster 16: love, need, feel, give, never, heart, babi, true, fall, one, tell, time, alway, ever, believ, forev, hold, thing, life, much,\n",
      "Cluster 17: rock, roll, n, babi, music, danc, night, readi, soul, us, well, tonight, keep, parti, beat, stop, love, feel, girl, show,\n",
      "Cluster 18: shame, blame, pain, love, name, away, feel, cri, never, life, time, back, fall, game, insid, one, think, lie, alon, live,\n",
      "Cluster 19: never, time, feel, thing, think, life, tri, one, noth, everyth, believ, tell, chang, need, live, alway, someth, love, find, day,\n",
      "Cluster 20: woman, man, love, babi, well, need, feel, girl, kind, never, good, littl, look, give, one, tell, cri, yes, lord, understand,\n",
      "Cluster 21: bitch, fuck, niggaz, nigga, shit, hoe, ass, yo, em, motherfuck, dick, pussi, fuckin, wit, man, money, hit, back, gon, game,\n",
      "Cluster 22: miss, love, kiss, babi, wish, never, feel, time, much, gone, back, day, think, thing, away, still, need, one, heart, littl,\n",
      "Cluster 23: tonight, right, love, feel, babi, night, us, light, hold, home, need, time, danc, eye, stay, one, sleep, alon, look, girl,\n",
      "Cluster 24: lord, god, jesus, prais, holi, heaven, christ, glori, sing, o, thank, us, love, bless, grace, life, name, joy, king, lift,\n",
      "Cluster 25: away, far, walk, run, fade, stay, day, feel, never, love, time, turn, today, one, find, life, fall, leav, fli, tri,\n",
      "Cluster 26: rememb, love, forget, day, time, night, never, back, still, alway, life, memori, feel, use, dream, thing, said, one, last, away,\n",
      "Cluster 27: gone, long, wrong, love, away, feel, time, back, alon, never, babi, leav, day, home, left, one, far, still, sinc, think,\n"
     ]
    }
   ],
   "source": [
    "from __future__ import print_function\n",
    "\n",
    "order_centroids = km.cluster_centers_.argsort()[:, ::-1] \n",
    "\n",
    "most_common = []\n",
    "\n",
    "for i in range(28):\n",
    "    print(\"Cluster %d:\" % i, end='')\n",
    "    for ind in order_centroids[i, :20]:\n",
    "        print(' %s,' % terms[ind], end='')\n",
    "        most_common.append(terms[ind])\n",
    "    print()"
   ]
  },
  {
   "cell_type": "code",
   "execution_count": 31,
   "metadata": {
    "collapsed": false
   },
   "outputs": [],
   "source": [
    "years = []\n",
    "\n",
    "for iden in index:\n",
    "    song = songs.find({'_id': iden}, {'a_album_year': 1}).next()\n",
    "    years.append(song['a_album_year'])\n"
   ]
  },
  {
   "cell_type": "code",
   "execution_count": 33,
   "metadata": {
    "collapsed": false
   },
   "outputs": [
    {
     "data": {
      "text/html": [
       "<div>\n",
       "<table border=\"1\" class=\"dataframe\">\n",
       "  <thead>\n",
       "    <tr style=\"text-align: right;\">\n",
       "      <th></th>\n",
       "      <th>clusters</th>\n",
       "      <th>years</th>\n",
       "    </tr>\n",
       "  </thead>\n",
       "  <tbody>\n",
       "    <tr>\n",
       "      <th>0</th>\n",
       "      <td>2</td>\n",
       "      <td>1997</td>\n",
       "    </tr>\n",
       "    <tr>\n",
       "      <th>1</th>\n",
       "      <td>26</td>\n",
       "      <td>1997</td>\n",
       "    </tr>\n",
       "    <tr>\n",
       "      <th>2</th>\n",
       "      <td>2</td>\n",
       "      <td>1997</td>\n",
       "    </tr>\n",
       "    <tr>\n",
       "      <th>3</th>\n",
       "      <td>19</td>\n",
       "      <td>1997</td>\n",
       "    </tr>\n",
       "    <tr>\n",
       "      <th>4</th>\n",
       "      <td>2</td>\n",
       "      <td>1997</td>\n",
       "    </tr>\n",
       "  </tbody>\n",
       "</table>\n",
       "</div>"
      ],
      "text/plain": [
       "   clusters years\n",
       "0         2  1997\n",
       "1        26  1997\n",
       "2         2  1997\n",
       "3        19  1997\n",
       "4         2  1997"
      ]
     },
     "execution_count": 33,
     "metadata": {},
     "output_type": "execute_result"
    }
   ],
   "source": [
    "year_cluster_df = pd.DataFrame({'years': years, 'clusters': clusters})\n",
    "year_cluster_df.head()"
   ]
  },
  {
   "cell_type": "code",
   "execution_count": 34,
   "metadata": {
    "collapsed": false,
    "scrolled": true
   },
   "outputs": [],
   "source": [
    "group_year = year_cluster_df.groupby('years')\n",
    "group_year.head()\n",
    "#group_year['weight'] = group_year['clusters']/group_year.count()\n",
    "#group_year.hist(normed=True, bins=28)\n",
    "weights = group_year.count()['clusters']\n",
    "def plot_year(year):\n",
    "    plt.figure()\n",
    "    x = (group_year.get_group(year)['clusters'].value_counts()/weights[year]).index\n",
    "    y = group_year.get_group(year)['clusters'].value_counts()/weight[year]\n",
    "    plt.bar(x, y)"
   ]
  },
  {
   "cell_type": "code",
   "execution_count": 198,
   "metadata": {
    "collapsed": false,
    "scrolled": true
   },
   "outputs": [
    {
     "data": {
      "image/png": "[encoded data removed]",
      "text/plain": [
       "<matplotlib.figure.Figure at 0x16aa7b910>"
      ]
     },
     "metadata": {},
     "output_type": "display_data"
    },
    {
     "data": {
      "image/png": "[encoded data removed]",
      "text/plain": [
       "<matplotlib.figure.Figure at 0x16aa7b290>"
      ]
     },
     "metadata": {},
     "output_type": "display_data"
    },
    {
     "data": {
      "image/png": "[encoded data removed]",
      "text/plain": [
       "<matplotlib.figure.Figure at 0x547cd8fad0>"
      ]
     },
     "metadata": {},
     "output_type": "display_data"
    },
    {
     "data": {
      "image/png": "[encoded data removed]",
      "text/plain": [
       "<matplotlib.figure.Figure at 0x1b0763090>"
      ]
     },
     "metadata": {},
     "output_type": "display_data"
    },
    {
     "data": {
      "image/png": "[encoded data removed]",
      "text/plain": [
       "<matplotlib.figure.Figure at 0x1b0860750>"
      ]
     },
     "metadata": {},
     "output_type": "display_data"
    }
   ],
   "source": [
    "plot_year(1970)\n",
    "plot_year(1980)\n",
    "plot_year(1990)\n",
    "plot_year(2000)\n",
    "plot_year(2010)"
   ]
  },
  {
   "cell_type": "code",
   "execution_count": 44,
   "metadata": {
    "collapsed": false
   },
   "outputs": [
    {
     "data": {
      "text/plain": [
       "[Int64Index([ 1,  2,  3,  4,  5,  6,  7,  8,  9, 10, 11, 12, 13, 14, 15, 16, 17,\n",
       "             18, 19, 20, 21, 22, 23, 24, 25, 26, 27],\n",
       "            dtype='int64')]"
      ]
     },
     "execution_count": 44,
     "metadata": {},
     "output_type": "execute_result"
    }
   ],
   "source": [
    "group_year.get_group(1990)['clusters'].value_counts().sort_index().axes"
   ]
  },
  {
   "cell_type": "code",
   "execution_count": 58,
   "metadata": {
    "collapsed": false
   },
   "outputs": [],
   "source": [
    "heat_dict = {}\n",
    "for year in range(1960, 2011):\n",
    "    series = group_year.get_group(year)['clusters'].value_counts()\n",
    "    for i in range(28):\n",
    "        if i not in series.axes[0]:\n",
    "            series = series.append(pd.Series(0, index=[i]))\n",
    "    heat_dict[year] = series.sort_index()"
   ]
  },
  {
   "cell_type": "code",
   "execution_count": 121,
   "metadata": {
    "collapsed": false,
    "scrolled": true
   },
   "outputs": [
    {
     "data": {
      "text/plain": [
       "27"
      ]
     },
     "execution_count": 121,
     "metadata": {},
     "output_type": "execute_result"
    }
   ],
   "source": [
    "import collections\n",
    "\n",
    "od = collections.OrderedDict(sorted(heat_dict.items()))\n",
    "\n",
    "\n",
    "heat_list_norm = [(od[year]/float(sum(od[year].tolist()))).tolist() for year in range(1960, 2011)]\n",
    "for sub in heat_list_norm:\n",
    "    # remove cluster 2\n",
    "    del sub[2]\n"
   ]
  },
  {
   "cell_type": "code",
   "execution_count": 122,
   "metadata": {
    "collapsed": false
   },
   "outputs": [
    {
     "name": "stdout",
     "output_type": "stream",
     "text": [
      "Automatically created module for IPython interactive environment\n"
     ]
    }
   ],
   "source": [
    "print(__doc__)\n",
    "\n",
    "sns.set_style(\"whitegrid\", {'axes.grid' : False})\n",
    "\n",
    "def plot_heat_map(cm, title='Cluster Distribution Over Time', cmap=plt.cm.Blues):\n",
    "    plt.imshow(cm, interpolation='nearest', cmap=cmap)\n",
    "    plt.title(title, fontsize=20)\n",
    "    plt.colorbar(fraction=0.046, pad=0.04)\n",
    "    tick_marks_y = np.arange(len(range(0, 2))+len(range(3, 28)))\n",
    "    tick_marks_x = np.arange(len(range(1960, 2011)))\n",
    "    plt.yticks(tick_marks_y, range(0, 2)+range(3, 28), fontsize=16)\n",
    "    plt.xticks(tick_marks_x, range(1960, 2011), rotation=45, fontsize=16)\n",
    "    plt.tight_layout()\n",
    "    plt.ylabel('Cluster Distribution', fontsize=16)\n",
    "    plt.xlabel('Year', fontsize=16)"
   ]
  },
  {
   "cell_type": "code",
   "execution_count": 125,
   "metadata": {
    "collapsed": false
   },
   "outputs": [
    {
     "data": {
      "image/png": "[encoded data removed]",
      "text/plain": [
       "<matplotlib.figure.Figure at 0x1a5c27610>"
      ]
     },
     "metadata": {},
     "output_type": "display_data"
    }
   ],
   "source": [
    "plt.figure(figsize=(20, 12))\n",
    "plot_heat_map(np.array(heat_list_norm).T, cmap=plt.cm.hot)"
   ]
  },
  {
   "cell_type": "markdown",
   "metadata": {},
   "source": [
    "# Trying LDA Topic Modeling"
   ]
  },
  {
   "cell_type": "code",
   "execution_count": 11,
   "metadata": {
    "collapsed": true
   },
   "outputs": [],
   "source": [
    "from gensim.models.ldamulticore import LdaMulticore"
   ]
  },
  {
   "cell_type": "code",
   "execution_count": 221,
   "metadata": {
    "collapsed": false
   },
   "outputs": [],
   "source": [
    "def run_lda(corpus_vec, dictionary):\n",
    "    num_topics_list = [14, 16, 20]\n",
    "    for num_topics in num_topics_list:\n",
    "        lda = LdaMulticore(corpus_vec, id2word=dictionary, num_topics=num_topics)\n",
    "        lda.save(str(num_topics)+'_lda.model')\n",
    "        lda.print_topics(num_topics=num_topics, num_words=10)"
   ]
  },
  {
   "cell_type": "code",
   "execution_count": null,
   "metadata": {
    "collapsed": false
   },
   "outputs": [],
   "source": [
    "run_lda(corpus_vec, dictionary)"
   ]
  },
  {
   "cell_type": "code",
   "execution_count": 26,
   "metadata": {
    "collapsed": false
   },
   "outputs": [],
   "source": [
    "lda = LdaMulticore.load('10_lda.model')"
   ]
  },
  {
   "cell_type": "code",
   "execution_count": 114,
   "metadata": {
    "collapsed": false
   },
   "outputs": [],
   "source": [
    "topics = lda.print_topics(num_topics=10, num_words=10)"
   ]
  },
  {
   "cell_type": "code",
   "execution_count": 116,
   "metadata": {
    "collapsed": false
   },
   "outputs": [
    {
     "name": "stdout",
     "output_type": "stream",
     "text": [
      "0 0.011*home + 0.010*day + 0.010*back + 0.009*love + 0.007*well + 0.007*dream + 0.007*cri + 0.007*sing + 0.006*man + 0.006*one\n",
      "1 0.023*feel + 0.014*night + 0.014*love + 0.012*fall + 0.011*light + 0.011*danc + 0.011*tonight + 0.011*world + 0.010*good + 0.010*keep\n",
      "2 0.018*one + 0.009*peopl + 0.009*time + 0.008*world + 0.005*back + 0.005*turn + 0.004*god + 0.004*life + 0.004*live + 0.004*new\n",
      "3 0.024*time + 0.020*never + 0.015*away + 0.014*feel + 0.011*tri + 0.010*life + 0.010*day + 0.010*thing + 0.010*think + 0.010*one\n",
      "4 0.011*money + 0.009*niggaz + 0.009*nigga + 0.009*bitch + 0.009*fuck + 0.006*never + 0.006*shit + 0.006*back + 0.006*em + 0.005*run\n",
      "5 0.019*nigga + 0.012*boy + 0.009*em + 0.009*man + 0.008*back + 0.008*yo + 0.006*live + 0.006*real + 0.005*time + 0.005*die\n",
      "6 0.014*believ + 0.009*pleas + 0.008*heart + 0.008*burn + 0.008*world + 0.008*life + 0.008*love + 0.007*live + 0.007*run + 0.007*look\n",
      "7 0.080*love + 0.042*babi + 0.022*girl + 0.022*need + 0.016*one + 0.014*give + 0.013*tell + 0.012*right + 0.011*feel + 0.010*time\n",
      "8 0.032*da + 0.020*mi + 0.018*dem + 0.016*di + 0.009*whoa + 0.008*fi + 0.008*lord + 0.007*de + 0.006*yuh + 0.005*nuh\n",
      "9 0.019*nigga + 0.016*fuck + 0.013*shit + 0.011*bitch + 0.008*girl + 0.007*back + 0.007*yo + 0.007*talk + 0.007*look + 0.006*ass\n"
     ]
    }
   ],
   "source": [
    "for topic in topics:\n",
    "    print topic[0], topic[1]"
   ]
  },
  {
   "cell_type": "code",
   "execution_count": null,
   "metadata": {
    "collapsed": true
   },
   "outputs": [],
   "source": []
  }
 ],
 "metadata": {
  "kernelspec": {
   "display_name": "Python 2",
   "language": "python",
   "name": "python2"
  },
  "language_info": {
   "codemirror_mode": {
    "name": "ipython",
    "version": 2
   },
   "file_extension": ".py",
   "mimetype": "text/x-python",
   "name": "python",
   "nbconvert_exporter": "python",
   "pygments_lexer": "ipython2",
   "version": "2.7.11"
  }
 },
 "nbformat": 4,
 "nbformat_minor": 0
}
